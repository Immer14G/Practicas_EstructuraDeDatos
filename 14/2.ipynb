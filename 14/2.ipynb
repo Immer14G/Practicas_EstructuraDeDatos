{
  "metadata": {
    "language_info": {
      "name": ""
    },
    "kernelspec": {
      "name": "python",
      "display_name": "Python (Pyodide)",
      "language": "python"
    }
  },
  "nbformat_minor": 4,
  "nbformat": 4,
  "cells": [
    {
      "cell_type": "code",
      "source": "import re\n\ndef contiene_fecha_valida(cadena):\n    patron_fecha = re.compile(r'\\b\\d{2}/\\d{2}/\\d{4}\\b')\n    coincidencia = patron_fecha.search(cadena)\n    return bool(coincidencia)\n\ntexto_con_fechas = \"El evento está programado para el 25/12/2023. Asegúrate de asistir.\"\ntexto_sin_fechas = \"No hay fechas importantes en este texto.\"\n\nprint(contiene_fecha_valida(texto_con_fechas))  # True\nprint(contiene_fecha_valida(texto_sin_fechas))   # False\n",
      "metadata": {},
      "execution_count": null,
      "outputs": []
    }
  ]
}