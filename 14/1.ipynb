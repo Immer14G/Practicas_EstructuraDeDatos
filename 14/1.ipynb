{
  "metadata": {
    "language_info": {
      "codemirror_mode": {
        "name": "python",
        "version": 3
      },
      "file_extension": ".py",
      "mimetype": "text/x-python",
      "name": "python",
      "nbconvert_exporter": "python",
      "pygments_lexer": "ipython3",
      "version": "3.8"
    },
    "kernelspec": {
      "name": "python",
      "display_name": "Python (Pyodide)",
      "language": "python"
    }
  },
  "nbformat_minor": 4,
  "nbformat": 4,
  "cells": [
    {
      "cell_type": "code",
      "source": "import re\n\ndef es_codigo_empleado_valido(cadena):\n    patron_codigo_empleado = re.compile(r'^EMP\\d{3}$')\n    coincidencia = patron_codigo_empleado.match(cadena)\n    return bool(coincidencia)\n\ncodigo_empleado1 = \"EMP123\"\ncodigo_empleado2 = \"EMP456\"\ncodigo_empleado3 = \"ABC789\"\n\nprint(es_codigo_empleado_valido(codigo_empleado1))  \nprint(es_codigo_empleado_valido(codigo_empleado2))  \nprint(es_codigo_empleado_valido(codigo_empleado3))  \n",
      "metadata": {},
      "execution_count": null,
      "outputs": []
    }
  ]
}