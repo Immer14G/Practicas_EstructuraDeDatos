{
  "metadata": {
    "language_info": {
      "name": ""
    },
    "kernelspec": {
      "name": "python",
      "display_name": "Python (Pyodide)",
      "language": "python"
    }
  },
  "nbformat_minor": 4,
  "nbformat": 4,
  "cells": [
    {
      "cell_type": "code",
      "source": "import re\n\ndef palabras_minisculas(texto):\n    patron_palabras = re.compile(r'\\b[a-z]+\\b')\n    lista_palabras = patron_palabras.findall(texto)\n    return lista_palabras\n\ntexto_ejemplo = \"Este es un Texto de Ejemplo con Palabras en Minúsculas y Mayúsculas.\"\nresultado = palabras_minisculas(texto_ejemplo)\nprint(resultado)\n",
      "metadata": {},
      "execution_count": null,
      "outputs": []
    }
  ]
}