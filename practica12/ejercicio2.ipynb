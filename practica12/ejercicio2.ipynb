{
  "metadata": {
    "language_info": {
      "codemirror_mode": {
        "name": "python",
        "version": 3
      },
      "file_extension": ".py",
      "mimetype": "text/x-python",
      "name": "python",
      "nbconvert_exporter": "python",
      "pygments_lexer": "ipython3",
      "version": "3.8"
    },
    "kernelspec": {
      "name": "python",
      "display_name": "Python (Pyodide)",
      "language": "python"
    }
  },
  "nbformat_minor": 4,
  "nbformat": 4,
  "cells": [
    {
      "cell_type": "code",
      "source": "def invertir_cadena(cadena):\n    if len(cadena) <= 1:\n        return cadena\n    else:\n        return cadena[-1] + invertir_cadena(cadena[1:-1]) + cadena[0]\n\ncadena_original = \"El perro esta comiendo\"\ncadena_invertida = invertir_cadena(cadena_original)\nprint(f\"Cadena original: {cadena_original}\")\nprint(f\"Cadena invertida: {cadena_invertida}\")",
      "metadata": {},
      "execution_count": null,
      "outputs": []
    }
  ]
}