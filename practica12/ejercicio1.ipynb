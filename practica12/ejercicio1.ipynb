{
  "metadata": {
    "language_info": {
      "name": ""
    },
    "kernelspec": {
      "name": "python",
      "display_name": "Python (Pyodide)",
      "language": "python"
    }
  },
  "nbformat_minor": 4,
  "nbformat": 4,
  "cells": [
    {
      "cell_type": "code",
      "source": "not lista:\n        return 0\n    else:\n        return lista[0] + suma_lista(lista[1:])\n\nmi_lista = [1, 5, 6,9,3]\nresultado = suma_lista(mi_lista)\nprint(f\"La suma de la lista {mi_lista} es: {resultado}\")",
      "metadata": {
        "trusted": true
      },
      "execution_count": null,
      "outputs": []
    },
    {
      "cell_type": "code",
      "source": "",
      "metadata": {},
      "execution_count": null,
      "outputs": []
    }
  ]
}