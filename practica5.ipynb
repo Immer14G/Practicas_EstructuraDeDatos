{
  "metadata": {
    "language_info": {
      "name": ""
    },
    "kernelspec": {
      "name": "python",
      "display_name": "Python (Pyodide)",
      "language": "python"
    }
  },
  "nbformat_minor": 4,
  "nbformat": 4,
  "cells": [
    {
      "cell_type": "code",
      "source": "''' Crear funciones que permitan:\na. Ingresar n datos a una lista.\nb. Ordenar una lista de menor a mayor.\nc. Calcular la sumatoria de los datos de una lista.\nd. Calcular la media de los datos.\ne. Calcular la mediana.\nf. Calcular la moda.\ng. Calcular la desviación típica o estándar para datos sin agrupar.\n'''\n\ndef ingresar_datos():\n    n = int(input(\"Ingrese la cantidad de datos que desea ingresar: \"))\n    lista = []\n    for i in range(n):\n        dato = int(input(f\"Ingrese el dato {i + 1}: \"))\n        lista.append(dato)\n    return lista\n\ndef ordenar_lista(lista):\n    lista.sort()\n    return lista\n\ndef calcular_sumatoria(lista):\n    suma = sum(lista)\n    return suma\n\ndef calcular_media(lista):\n    suma = calcular_sumatoria(lista)\n    media = suma / len(lista)\n    return media\n\ndef calcular_mediana(lista):\n    lista_ordenada = ordenar_lista(lista)\n    n = len(lista_ordenada)\n    if n % 2 == 0:\n        mediana = (lista_ordenada[n // 2 - 1] + lista_ordenada[n // 2]) / 2\n    else:\n        mediana = lista_ordenada[n // 2]\n    return mediana\n\ndef calcular_moda(lista):\n    from collections import Counter\n    contador = Counter(lista)\n    moda = [item for item, frecuencia in contador.items() if frecuencia == max(contador.values())]\n    return moda\n\ndef calcular_desviacion_estandar(lista):\n    import math\n    media = calcular_media(lista)\n    n = len(lista)\n    suma_de_cuadrados = sum([(x - media) ** 2 for x in lista])\n    desviacion_estandar = math.sqrt(suma_de_cuadrados / (n - 1))\n    return desviacion_estandar\n\ndatos = ingresar_datos()\nprint(\"Datos ingresados:\", datos)\nprint(\"Datos ordenados:\", ordenar_lista(datos))\nprint(\"Sumatoria:\", calcular_sumatoria(datos))\nprint(\"Media:\", calcular_media(datos))\nprint(\"Mediana:\", calcular_mediana(datos))\nprint(\"Moda:\", calcular_moda(datos))\nprint(\"Desviación estándar:\", calcular_desviacion_estandar(datos))",
      "metadata": {
        "trusted": true
      },
      "execution_count": null,
      "outputs": []
    },
    {
      "cell_type": "code",
      "source": "",
      "metadata": {},
      "execution_count": null,
      "outputs": []
    }
  ]
}