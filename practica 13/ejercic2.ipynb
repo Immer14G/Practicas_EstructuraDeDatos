{
  "metadata": {
    "language_info": {
      "codemirror_mode": {
        "name": "python",
        "version": 3
      },
      "file_extension": ".py",
      "mimetype": "text/x-python",
      "name": "python",
      "nbconvert_exporter": "python",
      "pygments_lexer": "ipython3",
      "version": "3.8"
    },
    "kernelspec": {
      "name": "python",
      "display_name": "Python (Pyodide)",
      "language": "python"
    }
  },
  "nbformat_minor": 4,
  "nbformat": 4,
  "cells": [
    {
      "cell_type": "code",
      "source": "from collections import deque\nclass Banco:\n    def __init__(self):\n        self.cola_clientes = deque()\n\n    def llegada_cliente(self, cliente):\n        self.cola_clientes.append(cliente)\n        print(f\"Cliente '{cliente}' llegó. Estado actual de la cola: {self.cola_clientes}\")\n\n    def atender_cliente(self):\n        if self.cola_clientes:\n            cliente_atendido = self.cola_clientes.popleft()\n            print(f\"Cliente '{cliente_atendido}' atendido. Estado actual de la cola: {self.cola_clientes}\")\n        else:\n            print(\"La cola de clientes está vacía. No hay clientes para atender.\")\n\n    def mostrar_estado_cola(self):\n        print(f\"Estado actual de la cola: {self.cola_clientes}\")\n\nbanco = Banco()\n\n\nbanco.llegada_cliente(\"Cliente 1\")\nbanco.llegada_cliente(\"Cliente 2\")\nbanco.mostrar_estado_cola()\nbanco.atender_cliente()\nbanco.mostrar_estado_cola()\n",
      "metadata": {},
      "execution_count": null,
      "outputs": []
    }
  ]
}