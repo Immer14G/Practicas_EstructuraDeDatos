{
  "metadata": {
    "language_info": {
      "codemirror_mode": {
        "name": "python",
        "version": 3
      },
      "file_extension": ".py",
      "mimetype": "text/x-python",
      "name": "python",
      "nbconvert_exporter": "python",
      "pygments_lexer": "ipython3",
      "version": "3.8"
    },
    "kernelspec": {
      "name": "python",
      "display_name": "Python (Pyodide)",
      "language": "python"
    }
  },
  "nbformat_minor": 4,
  "nbformat": 4,
  "cells": [
    {
      "cell_type": "code",
      "source": "class Biblioteca:\n    def __init__(self):\n        self.pila_libros = []\n\n    def prestar_libro(self, libro):\n        self.pila_libros.append(libro)\n        print(f\"Libro '{libro}' prestado. Estado actual de la pila: {self.pila_libros}\")\n\n    def devolver_libro(self):\n        if self.pila_libros:\n            libro_devuelto = self.pila_libros.pop()\n            print(f\"Libro '{libro_devuelto}' devuelto. Estado actual de la pila: {self.pila_libros}\")\n        else:\n            print(\"La pila de libros está vacía. No hay libros para devolver.\")\n\n    def mostrar_estado(self):\n        if self.pila_libros:\n            print(f\"Estado actual de la pila: {self.pila_libros}\")\n        else:\n            print(\"La pila de libros está vacía.\")\n\nbiblioteca = Biblioteca()\n\nbiblioteca.prestar_libro(\"Cien años de soledad\")\nbiblioteca.prestar_libro(\"Don Quijote de la Mancha\")\nbiblioteca.mostrar_estado()\nbiblioteca.devolver_libro()\nbiblioteca.mostrar_estado()\n",
      "metadata": {
        "trusted": true
      },
      "execution_count": 1,
      "outputs": [
        {
          "name": "stdout",
          "text": "Libro 'Cien años de soledad' prestado. Estado actual de la pila: ['Cien años de soledad']\nLibro 'Don Quijote de la Mancha' prestado. Estado actual de la pila: ['Cien años de soledad', 'Don Quijote de la Mancha']\nEstado actual de la pila: ['Cien años de soledad', 'Don Quijote de la Mancha']\nLibro 'Don Quijote de la Mancha' devuelto. Estado actual de la pila: ['Cien años de soledad']\nEstado actual de la pila: ['Cien años de soledad']\n",
          "output_type": "stream"
        }
      ]
    },
    {
      "cell_type": "code",
      "source": "",
      "metadata": {},
      "execution_count": null,
      "outputs": []
    }
  ]
}